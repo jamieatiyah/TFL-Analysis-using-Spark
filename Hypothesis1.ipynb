{
  "cells": [
    {
      "cell_type": "code",
      "execution_count": null,
      "metadata": {
        "colab": {
          "base_uri": "https://localhost:8080/"
        },
        "id": "70ZfBcxiAACk",
        "outputId": "ae78309b-09e1-40e6-c2b5-f30bf921ecdb"
      },
      "outputs": [
        {
          "output_type": "stream",
          "name": "stdout",
          "text": [
            "sample_data\n"
          ]
        }
      ],
      "source": [
        "!ls"
      ]
    },
    {
      "cell_type": "code",
      "source": [
        "import matplotlib.pyplot as plt\n",
        "import pandas as pd"
      ],
      "metadata": {
        "id": "yGS_OixjfvoS"
      },
      "execution_count": null,
      "outputs": []
    },
    {
      "cell_type": "code",
      "execution_count": null,
      "metadata": {
        "colab": {
          "base_uri": "https://localhost:8080/"
        },
        "id": "4qFIDblIAnBD",
        "outputId": "79acb364-027b-4994-cd6e-0ed127c582a0"
      },
      "outputs": [
        {
          "output_type": "stream",
          "name": "stdout",
          "text": [
            "\u001b[H\u001b[2Jwelcome\n",
            "--2023-05-15 10:04:04--  https://downloads.apache.org/spark/spark-3.3.2/spark-3.3.2-bin-hadoop3.tgz\n",
            "Resolving downloads.apache.org (downloads.apache.org)... 88.99.95.219, 135.181.214.104, 2a01:4f8:10a:201a::2, ...\n",
            "Connecting to downloads.apache.org (downloads.apache.org)|88.99.95.219|:443... connected.\n",
            "HTTP request sent, awaiting response... 200 OK\n",
            "Length: 299360284 (285M) [application/x-gzip]\n",
            "Saving to: ‘spark-3.3.2-bin-hadoop3.tgz’\n",
            "\n",
            "spark-3.3.2-bin-had 100%[===================>] 285.49M  12.1MB/s    in 26s     \n",
            "\n",
            "2023-05-15 10:04:31 (11.1 MB/s) - ‘spark-3.3.2-bin-hadoop3.tgz’ saved [299360284/299360284]\n",
            "\n",
            "total 292368\n",
            "drwxr-xr-x  1 root root      4096 May 15 10:04 .\n",
            "drwxr-xr-x  1 root root      4096 May 15 09:59 ..\n",
            "drwxr-xr-x  1 root root      4096 May 11 16:35 sample_data\n",
            "drwxr-xr-x  4 root root      4096 May 11 16:34 .config\n",
            "-rw-r--r--  1 root root 299360284 Feb 10 21:28 spark-3.3.2-bin-hadoop3.tgz\n",
            "drwxr-xr-x 13  501 1000      4096 Feb 10 20:40 spark-3.3.2-bin-hadoop3\n",
            "standalone Spark is now installed\n"
          ]
        }
      ],
      "source": [
        "!clear\n",
        "!echo welcome\n",
        "\n",
        "!rm -f spark-3.3.[01]-bin-hadoop3.tgz* \n",
        "!rm -rf spark-3.3.[01]-bin-hadoop3\n",
        "\n",
        "!apt-get install openjdk-8-jdk-headless -qq > /dev/null\n",
        "!wget https://downloads.apache.org/spark/spark-3.3.2/spark-3.3.2-bin-hadoop3.tgz\n",
        "!tar -xf spark-3.3.2-bin-hadoop3.tgz\n",
        "\n",
        "!ls -alt\n",
        "print(\"standalone Spark is now installed\")"
      ]
    },
    {
      "cell_type": "code",
      "execution_count": null,
      "metadata": {
        "colab": {
          "base_uri": "https://localhost:8080/",
          "height": 294
        },
        "id": "GgJ39S4wApU4",
        "outputId": "608d0d81-dd87-4851-dafd-79ae3fdf7dc1"
      },
      "outputs": [
        {
          "output_type": "stream",
          "name": "stdout",
          "text": [
            "Looking in indexes: https://pypi.org/simple, https://us-python.pkg.dev/colab-wheels/public/simple/\n",
            "Collecting findspark\n",
            "  Downloading findspark-2.0.1-py2.py3-none-any.whl (4.4 kB)\n",
            "Installing collected packages: findspark\n",
            "Successfully installed findspark-2.0.1\n"
          ]
        },
        {
          "output_type": "execute_result",
          "data": {
            "text/plain": [
              "<pyspark.sql.session.SparkSession at 0x7ff13ff6ac50>"
            ],
            "text/html": [
              "\n",
              "            <div>\n",
              "                <p><b>SparkSession - in-memory</b></p>\n",
              "                \n",
              "        <div>\n",
              "            <p><b>SparkContext</b></p>\n",
              "\n",
              "            <p><a href=\"http://f911820e126e:4040\">Spark UI</a></p>\n",
              "\n",
              "            <dl>\n",
              "              <dt>Version</dt>\n",
              "                <dd><code>v3.3.2</code></dd>\n",
              "              <dt>Master</dt>\n",
              "                <dd><code>local[2]</code></dd>\n",
              "              <dt>AppName</dt>\n",
              "                <dd><code>MyApp</code></dd>\n",
              "            </dl>\n",
              "        </div>\n",
              "        \n",
              "            </div>\n",
              "        "
            ]
          },
          "metadata": {},
          "execution_count": 4
        }
      ],
      "source": [
        "# init spark (ensure SPARK_HOME set to same version as we download earlier)\n",
        "!pip3 install findspark\n",
        "import os\n",
        "os.environ[\"JAVA_HOME\"] = \"/usr/lib/jvm/java-8-openjdk-amd64\"\n",
        "os.environ[\"SPARK_HOME\"] = \"/content/spark-3.3.2-bin-hadoop3\"\n",
        "import findspark\n",
        "findspark.init()\n",
        "from pyspark import SparkConf, SparkContext\n",
        "# the next line gives us 'local' mode. try 'local[2]' to use 2 cores or 'master:NNNN' to run on Spark standalone cluster at port NNNN\n",
        "spark_conf = SparkConf().setMaster('local[2]').setAppName('MyApp')\n",
        "sc = SparkContext(conf=spark_conf)\n",
        "# see what we have by examining the Spark User Interface\n",
        "from pyspark.sql import *\n",
        "from pyspark.sql.functions import *\n",
        "from pyspark.sql.types import IntegerType\n",
        "SparkSession.builder.getOrCreate()\n",
        "## "
      ]
    },
    {
      "cell_type": "markdown",
      "metadata": {
        "id": "gmgYxWTZCYlE"
      },
      "source": [
        "The zipped TFL data file is obtained using the wget and is unqipped"
      ]
    },
    {
      "cell_type": "code",
      "execution_count": null,
      "metadata": {
        "colab": {
          "base_uri": "https://localhost:8080/"
        },
        "id": "kNo5_Q2UA6JY",
        "outputId": "0b372a73-a3e1-48f6-e644-ac0a29077522"
      },
      "outputs": [
        {
          "output_type": "stream",
          "name": "stdout",
          "text": [
            "--2023-05-15 10:04:51--  https://cycling.data.tfl.gov.uk/usage-stats/cyclehireusagestats-2014.zip\n",
            "Resolving cycling.data.tfl.gov.uk (cycling.data.tfl.gov.uk)... 104.16.101.13, 104.16.100.13\n",
            "Connecting to cycling.data.tfl.gov.uk (cycling.data.tfl.gov.uk)|104.16.101.13|:443... connected.\n",
            "HTTP request sent, awaiting response... 200 OK\n",
            "Length: 225215129 (215M) [application/zip]\n",
            "Saving to: ‘cyclehireusagestats-2014.zip’\n",
            "\n",
            "cyclehireusagestats 100%[===================>] 214.78M   250MB/s    in 0.9s    \n",
            "\n",
            "2023-05-15 10:04:52 (250 MB/s) - ‘cyclehireusagestats-2014.zip’ saved [225215129/225215129]\n",
            "\n",
            "Archive:  cyclehireusagestats-2014.zip\n",
            "  inflating: 1. Journey Data Extract 05Jan14-02Feb14.csv  \n",
            "  inflating: 10a. Journey Data Extract 14Sep14-27Sep14.csv  \n",
            "  inflating: 10b. Journey Data Extract 28Sep14-11Oct14.csv  \n",
            "  inflating: 11a. Journey Data Extract 12Oct14-08Nov14.csv  \n",
            "  inflating: 11b. Journey Data Extract 12Oct14-08Nov14.csv  \n",
            "  inflating: 12a. Journey Data Extract 09Nov14-06Dec14.csv  \n",
            "  inflating: 12b. Journey Data Extract 09Nov14-06Dec14.csv  \n",
            "  inflating: 13a. Journey Data Extract 07Dec14-21Dec14.csv  \n",
            "  inflating: 13b. Journey Data Extract 22Dec14-03Jan15.csv  \n",
            "  inflating: 14. Journey Data Extract 08Dec13-04Jan14.csv  \n",
            "  inflating: 2. Journey Data Extract 03Feb14-01Mar14.csv  \n",
            "  inflating: 3. Journey Data Extract 02Mar14-31Mar14.csv  \n",
            "  inflating: 4. Journey Data Extract 01Apr14-26Apr14.csv  \n",
            "  inflating: 5. Journey Data Extract 27Apr14-24May14.csv  \n",
            "  inflating: 6. Journey Data Extract 25May14-21Jun14.csv  \n",
            "  inflating: 7. Journey Data Extract 22Jun14-19Jul14.csv  \n",
            "  inflating: 8a Journey Data Extract 20Jul14-31Jul14.csv  \n",
            "  inflating: 8b Journey Data Extract 01Aug14-16Aug14.csv  \n",
            "  inflating: 9a Journey Data Extract 17Aug14-31Aug14.csv  \n",
            "  inflating: 9b Journey Data Extract 01Sep14-13Sep14.csv  \n"
          ]
        }
      ],
      "source": [
        "!wget https://cycling.data.tfl.gov.uk/usage-stats/cyclehireusagestats-2014.zip\n",
        "!unzip cyclehireusagestats-2014.zip"
      ]
    },
    {
      "cell_type": "markdown",
      "metadata": {
        "id": "v1cGBVfOCkDZ"
      },
      "source": [
        "# Reading in and Filtering the Data\n",
        "\n",
        "The research hypothesis is \" In 2014 people ride longer in Autumn than in Spring\". To be able to test this hypothesis, definitions for the time period that spans autumn and spring must be made. The Met Office meteorologically as the 1st March to the 31st May (https://blog.metoffice.gov.uk/2014/03/05/spring-has-sprung/). This time period is covered by files: 3,4,5, and parts of files 2 and 6. September to November is defined as the autumnal months by the met office (https://blog.metoffice.gov.uk/2014/12/31/2014-a-year-in-weather/). This time period is covered by files: 9b, 10a, 10b, 11a, 11b, and part of files 12a and 12b."
      ]
    },
    {
      "cell_type": "code",
      "execution_count": null,
      "metadata": {
        "id": "iMZry1p2C93V"
      },
      "outputs": [],
      "source": [
        "spark = SparkSession.builder.appName(\"bikes\").getOrCreate()\n",
        "Spring_df = (spark.read.format(\"csv\")\n",
        "         .option(\"header\", \"true\")\n",
        "         .option(\"inferSchema\", \"true\")\n",
        "         .load(['./2*csv','./3*csv','./4*csv', './5*csv','./6*csv']))  # 03 Feb 14 to 21 June 14\n",
        "\n",
        "Autumn_df = (spark.read.format(\"csv\")\n",
        "         .option(\"header\", \"true\")\n",
        "         .option(\"inferSchema\", \"true\")\n",
        "         .load(['./9b*csv','./10a*csv','./10b*csv', './11a*csv','./11b*csv','./12a*csv','./12b*csv']))  # 01 Sep 14 to 06 Dec 14"
      ]
    },
    {
      "cell_type": "markdown",
      "metadata": {
        "id": "RtVnKfeOIeVi"
      },
      "source": [
        "As highlighted above, the files read include dates outside of the defined time period of spring. The data can be filtered to remove rows of rides outisde of the spring time period."
      ]
    },
    {
      "cell_type": "code",
      "execution_count": null,
      "metadata": {
        "colab": {
          "base_uri": "https://localhost:8080/"
        },
        "id": "_uCJKtiRH8hr",
        "outputId": "71e7c2c1-1742-4044-d734-2185b95ca640"
      },
      "outputs": [
        {
          "output_type": "stream",
          "name": "stdout",
          "text": [
            "+---------+--------+-------+----------------+-------------+--------------------+----------------+---------------+--------------------+----+----+----+\n",
            "|Rental Id|Duration|Bike Id|        End Date|EndStation Id|     EndStation Name|      Start Date|StartStation Id|   StartStation Name| _c9|_c10|_c11|\n",
            "+---------+--------+-------+----------------+-------------+--------------------+----------------+---------------+--------------------+----+----+----+\n",
            "| 33253206|    1140|  11439|27/05/2014 00:59|          695|Islington Green, ...|27/05/2014 00:40|             81|Great Titchfield ...|null|null|null|\n",
            "| 33345935|     660|  10792|30/05/2014 18:00|          326|Graham Street, Angel|30/05/2014 17:49|            203|West Smithfield R...|null|null|null|\n",
            "| 33480171|    1440|  11901|03/06/2014 13:29|          695|Islington Green, ...|03/06/2014 13:05|            239|Warren Street Sta...|null|null|null|\n",
            "| 33709780|     960|   6891|09/06/2014 18:31|           20|Drummond Street ,...|09/06/2014 18:15|            695|Islington Green, ...|null|null|null|\n",
            "| 33794406|    1260|   6600|11/06/2014 19:58|          697|Charlotte Terrace...|11/06/2014 19:37|            311|Foley Street, Fit...|null|null|null|\n",
            "| 33932387|     300|   7166|15/06/2014 14:04|          184|Portland Place, M...|15/06/2014 13:59|            357|Howland Street, F...|null|null|null|\n",
            "| 34060370|    1140|   6177|19/06/2014 01:00|           93|Cloudesley Road, ...|19/06/2014 00:41|             81|Great Titchfield ...|null|null|null|\n",
            "| 33513244|     120|  10165|04/06/2014 16:40|          171|Collingham Garden...|04/06/2014 16:38|            216|Old Brompton Road...|null|null|null|\n",
            "| 33612824|    1860|   4382|07/06/2014 15:07|           95|Aldersgate Street...|07/06/2014 14:36|            430|South Parade, Che...|null|null|null|\n",
            "| 33506711|    1260|   4127|04/06/2014 10:33|          160|Waterloo Place, S...|04/06/2014 10:12|            430|South Parade, Che...|null|null|null|\n",
            "+---------+--------+-------+----------------+-------------+--------------------+----------------+---------------+--------------------+----+----+----+\n",
            "only showing top 10 rows\n",
            "\n"
          ]
        }
      ],
      "source": [
        "Spring_df.show(10)"
      ]
    },
    {
      "cell_type": "markdown",
      "metadata": {
        "id": "o2v49ZvaKzMc"
      },
      "source": [
        "The start date column can be converted to expected timestamp format. This allows for rows not within the specified time period to be filtered out."
      ]
    },
    {
      "cell_type": "code",
      "execution_count": null,
      "metadata": {
        "colab": {
          "base_uri": "https://localhost:8080/"
        },
        "id": "D07W_6p-Ibqh",
        "outputId": "95e7c2af-a53c-498e-9af9-850f5aee18a3"
      },
      "outputs": [
        {
          "output_type": "stream",
          "name": "stdout",
          "text": [
            "+---------+--------+-------+----------------+-------------+--------------------+----------------+---------------+--------------------+----+----+----+-------------------+\n",
            "|Rental Id|Duration|Bike Id|        End Date|EndStation Id|     EndStation Name|      Start Date|StartStation Id|   StartStation Name| _c9|_c10|_c11|              start|\n",
            "+---------+--------+-------+----------------+-------------+--------------------+----------------+---------------+--------------------+----+----+----+-------------------+\n",
            "| 30286260|    1260|  12218|03/02/2014 23:24|          697|Charlotte Terrace...|03/02/2014 23:03|            311|Foley Street, Fit...|null|null|null|2014-02-03 23:03:00|\n",
            "| 30341088|    1020|   9215|05/02/2014 23:24|          697|Charlotte Terrace...|05/02/2014 23:07|             81|Great Titchfield ...|null|null|null|2014-02-05 23:07:00|\n",
            "| 30368838|    1500|    204|06/02/2014 23:28|          695|Islington Green, ...|06/02/2014 23:03|            311|Foley Street, Fit...|null|null|null|2014-02-06 23:03:00|\n",
            "| 30455904|    1440|   4688|11/02/2014 23:29|          695|Islington Green, ...|11/02/2014 23:05|             81|Great Titchfield ...|null|null|null|2014-02-11 23:05:00|\n",
            "| 30511097|    1260|   2876|14/02/2014 23:27|          695|Islington Green, ...|14/02/2014 23:06|             81|Great Titchfield ...|null|null|null|2014-02-14 23:06:00|\n",
            "+---------+--------+-------+----------------+-------------+--------------------+----------------+---------------+--------------------+----+----+----+-------------------+\n",
            "only showing top 5 rows\n",
            "\n",
            "+---------+--------+-------+----------------+-------------+--------------------+----------------+---------------+--------------------+----+----+----+-------------------+\n",
            "|Rental Id|Duration|Bike Id|        End Date|EndStation Id|     EndStation Name|      Start Date|StartStation Id|   StartStation Name| _c9|_c10|_c11|              start|\n",
            "+---------+--------+-------+----------------+-------------+--------------------+----------------+---------------+--------------------+----+----+----+-------------------+\n",
            "| 33480171|    1440|  11901|03/06/2014 13:29|          695|Islington Green, ...|03/06/2014 13:05|            239|Warren Street Sta...|null|null|null|2014-06-03 13:05:00|\n",
            "| 33709780|     960|   6891|09/06/2014 18:31|           20|Drummond Street ,...|09/06/2014 18:15|            695|Islington Green, ...|null|null|null|2014-06-09 18:15:00|\n",
            "| 33794406|    1260|   6600|11/06/2014 19:58|          697|Charlotte Terrace...|11/06/2014 19:37|            311|Foley Street, Fit...|null|null|null|2014-06-11 19:37:00|\n",
            "| 33932387|     300|   7166|15/06/2014 14:04|          184|Portland Place, M...|15/06/2014 13:59|            357|Howland Street, F...|null|null|null|2014-06-15 13:59:00|\n",
            "| 34060370|    1140|   6177|19/06/2014 01:00|           93|Cloudesley Road, ...|19/06/2014 00:41|             81|Great Titchfield ...|null|null|null|2014-06-19 00:41:00|\n",
            "+---------+--------+-------+----------------+-------------+--------------------+----------------+---------------+--------------------+----+----+----+-------------------+\n",
            "only showing top 5 rows\n",
            "\n"
          ]
        }
      ],
      "source": [
        "# convert the \"Start Date\" column to a timestamp and alias it as \"start\"\n",
        "Spring_df = Spring_df.withColumn(\"start\", to_timestamp(col(\"Start Date\"), format='dd/MM/yyyy HH:mm'))\n",
        "\n",
        "# filter rows with start date before March 1st 2014\n",
        "Spring_df.filter(col(\"start\") < \"2014-03-01 00:00:00\").show(5)\n",
        "\n",
        "Spring_df.filter(col(\"start\") > \"2014-06-01 00:00:00\").show(5)"
      ]
    },
    {
      "cell_type": "code",
      "execution_count": null,
      "metadata": {
        "id": "AGlRcmPtJmDR"
      },
      "outputs": [],
      "source": [
        "Spring_df = Spring_df.filter(col(\"start\") >= \"2014-03-01 00:00:00\")\n",
        "Spring_df = Spring_df.filter(col(\"start\") <= \"2014-05-31 23:59:59\")"
      ]
    },
    {
      "cell_type": "markdown",
      "metadata": {
        "id": "l3f9fYxvLqa3"
      },
      "source": [
        "The rows have been filtered out."
      ]
    },
    {
      "cell_type": "code",
      "execution_count": null,
      "metadata": {
        "colab": {
          "base_uri": "https://localhost:8080/"
        },
        "id": "Y_uIuSPdLZk2",
        "outputId": "3f0604a2-08fc-4e10-8ca3-b8de801e23c8"
      },
      "outputs": [
        {
          "output_type": "stream",
          "name": "stdout",
          "text": [
            "+---------+--------+-------+--------+-------------+---------------+----------+---------------+-----------------+---+----+----+-----+\n",
            "|Rental Id|Duration|Bike Id|End Date|EndStation Id|EndStation Name|Start Date|StartStation Id|StartStation Name|_c9|_c10|_c11|start|\n",
            "+---------+--------+-------+--------+-------------+---------------+----------+---------------+-----------------+---+----+----+-----+\n",
            "+---------+--------+-------+--------+-------------+---------------+----------+---------------+-----------------+---+----+----+-----+\n",
            "\n",
            "+---------+--------+-------+--------+-------------+---------------+----------+---------------+-----------------+---+----+----+-----+\n",
            "|Rental Id|Duration|Bike Id|End Date|EndStation Id|EndStation Name|Start Date|StartStation Id|StartStation Name|_c9|_c10|_c11|start|\n",
            "+---------+--------+-------+--------+-------------+---------------+----------+---------------+-----------------+---+----+----+-----+\n",
            "+---------+--------+-------+--------+-------------+---------------+----------+---------------+-----------------+---+----+----+-----+\n",
            "\n"
          ]
        }
      ],
      "source": [
        "Spring_df.filter(col(\"start\") < \"2014-03-01 00:00:00\").show(5)\n",
        "Spring_df.filter(col(\"start\") > \"2014-06-31 00:00:00\").show(5)"
      ]
    },
    {
      "cell_type": "markdown",
      "metadata": {
        "id": "I2bjE4BELv8B"
      },
      "source": [
        "A similar process can be followed for the autumn data"
      ]
    },
    {
      "cell_type": "code",
      "execution_count": null,
      "metadata": {
        "id": "BeVgaV-sL1EE"
      },
      "outputs": [],
      "source": [
        "# convert the \"Start Date\" column to a timestamp and alias it as \"start\"\n",
        "Autumn_df = Autumn_df.withColumn(\"start\", to_timestamp(col(\"Start Date\"), format='dd/MM/yyyy HH:mm'))"
      ]
    },
    {
      "cell_type": "code",
      "execution_count": null,
      "metadata": {
        "colab": {
          "base_uri": "https://localhost:8080/"
        },
        "id": "yGoN2HZbSiYT",
        "outputId": "793a624d-40af-4ebb-9e51-c04f653b74cb"
      },
      "outputs": [
        {
          "output_type": "stream",
          "name": "stdout",
          "text": [
            "+---------+--------+-------+--------+-------------+---------------+----------+---------------+-----------------+---+----+----+-----+\n",
            "|Rental Id|Duration|Bike Id|End Date|EndStation Id|EndStation Name|Start Date|StartStation Id|StartStation Name|_c9|_c10|_c11|start|\n",
            "+---------+--------+-------+--------+-------------+---------------+----------+---------------+-----------------+---+----+----+-----+\n",
            "+---------+--------+-------+--------+-------------+---------------+----------+---------------+-----------------+---+----+----+-----+\n",
            "\n",
            "+---------+--------+-------+----------------+-------------+--------------------+----------------+---------------+--------------------+----+----+----+-------------------+\n",
            "|Rental Id|Duration|Bike Id|        End Date|EndStation Id|     EndStation Name|      Start Date|StartStation Id|   StartStation Name| _c9|_c10|_c11|              start|\n",
            "+---------+--------+-------+----------------+-------------+--------------------+----------------+---------------+--------------------+----+----+----+-------------------+\n",
            "| 39700107|     180|  10327|01/12/2014 00:04|          450|Jubilee Street, S...|01/12/2014 00:01|            443|Philpot Street, W...|null|null|null|2014-12-01 00:01:00|\n",
            "| 39700108|     240|     53|01/12/2014 00:05|          460|Burdett Road, Mil...|01/12/2014 00:01|            492|The Green Bridge,...|null|null|null|2014-12-01 00:01:00|\n",
            "| 39700104|     240|   7633|01/12/2014 00:05|          757|Harcourt Terrace,...|01/12/2014 00:01|            356|South Kensington ...|null|null|null|2014-12-01 00:01:00|\n",
            "| 39700105|    1080|   4108|01/12/2014 00:19|          465|Pitfield Street (...|01/12/2014 00:01|            335|Tavistock Street,...|null|null|null|2014-12-01 00:01:00|\n",
            "| 39700106|    1920|   8274|01/12/2014 00:33|          517| Ford Road, Old Ford|01/12/2014 00:01|             77|Russell Square St...|null|null|null|2014-12-01 00:01:00|\n",
            "+---------+--------+-------+----------------+-------------+--------------------+----------------+---------------+--------------------+----+----+----+-------------------+\n",
            "only showing top 5 rows\n",
            "\n"
          ]
        }
      ],
      "source": [
        "# filter rows with start date before March 1st 2014\n",
        "Autumn_df.filter(col(\"start\") < \"2014-09-01 00:00:00\").show(5)\n",
        "\n",
        "Autumn_df.filter(col(\"start\") > \"2014-12-01 00:00:00\").show(5)"
      ]
    },
    {
      "cell_type": "code",
      "execution_count": null,
      "metadata": {
        "id": "vVvImKEcNxBl"
      },
      "outputs": [],
      "source": [
        "Autumn_df = Autumn_df.filter(col(\"start\") >= \"2014-09-01 00:00:00\")\n",
        "Autumn_df = Autumn_df.filter(col(\"start\") <= \"2014-12-01 00:00:00\")"
      ]
    },
    {
      "cell_type": "code",
      "execution_count": null,
      "metadata": {
        "colab": {
          "base_uri": "https://localhost:8080/"
        },
        "id": "pTdKz3SAzGyD",
        "outputId": "82b5b521-34a9-472d-8a96-006193f74a74"
      },
      "outputs": [
        {
          "output_type": "stream",
          "name": "stdout",
          "text": [
            "+---------+--------+-------+--------+-------------+---------------+----------+---------------+-----------------+---+----+----+-----+\n",
            "|Rental Id|Duration|Bike Id|End Date|EndStation Id|EndStation Name|Start Date|StartStation Id|StartStation Name|_c9|_c10|_c11|start|\n",
            "+---------+--------+-------+--------+-------------+---------------+----------+---------------+-----------------+---+----+----+-----+\n",
            "+---------+--------+-------+--------+-------------+---------------+----------+---------------+-----------------+---+----+----+-----+\n",
            "\n",
            "+---------+--------+-------+--------+-------------+---------------+----------+---------------+-----------------+---+----+----+-----+\n",
            "|Rental Id|Duration|Bike Id|End Date|EndStation Id|EndStation Name|Start Date|StartStation Id|StartStation Name|_c9|_c10|_c11|start|\n",
            "+---------+--------+-------+--------+-------------+---------------+----------+---------------+-----------------+---+----+----+-----+\n",
            "+---------+--------+-------+--------+-------------+---------------+----------+---------------+-----------------+---+----+----+-----+\n",
            "\n"
          ]
        }
      ],
      "source": [
        "Autumn_df.filter(col(\"start\") < \"2014-09-01 00:00:00\").show(5)\n",
        "\n",
        "Autumn_df.filter(col(\"start\") > \"2014-12-01 00:00:00\").show(5)"
      ]
    },
    {
      "cell_type": "markdown",
      "metadata": {
        "id": "QGOWDsNl63Nz"
      },
      "source": [
        "# Data Inspection and Understanding"
      ]
    },
    {
      "cell_type": "code",
      "execution_count": null,
      "metadata": {
        "colab": {
          "base_uri": "https://localhost:8080/"
        },
        "id": "t1eTfJfo62J5",
        "outputId": "3ffe07f6-fef9-4f96-ef4b-7bf89990c00d"
      },
      "outputs": [
        {
          "output_type": "stream",
          "name": "stdout",
          "text": [
            "There are  2424933 rows in the spring data set and there are 2648354 rows in the autumn data set.\n",
            " There are 223421 more rows in the autumn data set than the spring data set.\n"
          ]
        }
      ],
      "source": [
        "print(f\"There are  {Spring_df.count()} rows in the spring data set and there are {Autumn_df.count()} rows in the autumn data set.\")\n",
        "print(f\" There are {Autumn_df.count() - Spring_df.count()} more rows in the autumn data set than the spring data set.\")"
      ]
    },
    {
      "cell_type": "markdown",
      "metadata": {
        "id": "C9pOtsoz5zzy"
      },
      "source": [
        "A look at the unique values in the `_c9`, `_c10`, and `_c11` columns in both the spring and autumn show that the columns contained no useful infomation. Therefore, the columns can be dropped from the data sets."
      ]
    },
    {
      "cell_type": "code",
      "execution_count": null,
      "metadata": {
        "colab": {
          "base_uri": "https://localhost:8080/"
        },
        "id": "ARgAjcQH1-bd",
        "outputId": "f8033202-b47e-46e8-d4e7-6da679ded5a9"
      },
      "outputs": [
        {
          "output_type": "stream",
          "name": "stdout",
          "text": [
            "+----+----+----+\n",
            "| _c9|_c10|_c11|\n",
            "+----+----+----+\n",
            "|null|null|null|\n",
            "+----+----+----+\n",
            "\n"
          ]
        }
      ],
      "source": [
        "Spring_df[[\"_c9\", \"_c10\", \"_c11\"]].distinct().show()"
      ]
    },
    {
      "cell_type": "code",
      "execution_count": null,
      "metadata": {
        "colab": {
          "base_uri": "https://localhost:8080/"
        },
        "id": "lIF2fLYA4mG_",
        "outputId": "fe229e59-c12f-4daf-e52e-fcb10f2e34a3"
      },
      "outputs": [
        {
          "output_type": "stream",
          "name": "stdout",
          "text": [
            "+----+----+----+\n",
            "| _c9|_c10|_c11|\n",
            "+----+----+----+\n",
            "|null|null|null|\n",
            "+----+----+----+\n",
            "\n"
          ]
        }
      ],
      "source": [
        "Autumn_df[[\"_c9\", \"_c10\", \"_c11\"]].distinct().show()"
      ]
    },
    {
      "cell_type": "code",
      "execution_count": null,
      "metadata": {
        "id": "NAhEGEwT4qu-"
      },
      "outputs": [],
      "source": [
        "Spring_df = Spring_df.drop('_c9', '_c10', '_c11')\n",
        "Autumn_df = Autumn_df.drop('_c9', '_c10', '_c11')"
      ]
    },
    {
      "cell_type": "markdown",
      "metadata": {
        "id": "wNccr-63-QEc"
      },
      "source": [
        "A look at the remaining columns shows that there are 10 columns in both data sets. The columns are:\n",
        "\n",
        "\n",
        "*   Rental Id - Unique Identifier of the bike rental\n",
        "*   Duration - The duration of the bike rental in seconds\n",
        "*   Bike Id - The ID of the bike that has been rented\n",
        "*   End Date - The date when the rental ended\n",
        "*   EndStation ID - The ID of the station where the rental ended\n",
        "*   EndStation Name - The name of the station where the rental ended\n",
        "*   Start Date - The date when the rental started\n",
        "*   StartStation Id - The ID of the station where the rental started\n",
        "*   StartStation Name - The name of the station where the rental started\n",
        "*   Start - The timestamp transformed start date\n",
        "\n"
      ]
    },
    {
      "cell_type": "code",
      "execution_count": null,
      "metadata": {
        "colab": {
          "base_uri": "https://localhost:8080/"
        },
        "id": "Pl4tVdd25Tb1",
        "outputId": "a98d2466-598e-46f4-8dcb-5cd4d93037e5"
      },
      "outputs": [
        {
          "output_type": "stream",
          "name": "stdout",
          "text": [
            "['Rental Id', 'Duration', 'Bike Id', 'End Date', 'EndStation Id', 'EndStation Name', 'Start Date', 'StartStation Id', 'StartStation Name', 'start']\n",
            "['Rental Id', 'Duration', 'Bike Id', 'End Date', 'EndStation Id', 'EndStation Name', 'Start Date', 'StartStation Id', 'StartStation Name', 'start']\n",
            "10\n",
            "10\n"
          ]
        }
      ],
      "source": [
        "print(Spring_df.columns)\n",
        "print(Autumn_df.columns)\n",
        "print(len(Spring_df.columns))\n",
        "print(len(Autumn_df.columns))"
      ]
    },
    {
      "cell_type": "code",
      "execution_count": null,
      "metadata": {
        "colab": {
          "base_uri": "https://localhost:8080/"
        },
        "id": "RcXNUTz19xoF",
        "outputId": "1544579f-1f68-44a9-cac3-e07cecc80e12"
      },
      "outputs": [
        {
          "output_type": "stream",
          "name": "stdout",
          "text": [
            "1.0\n",
            "1.0\n"
          ]
        }
      ],
      "source": [
        "print((Spring_df.select(\"Rental Id\").distinct().count()/Spring_df.count()))\n",
        "print((Autumn_df.select(\"Rental Id\").distinct().count()/Autumn_df.count())) "
      ]
    },
    {
      "cell_type": "code",
      "execution_count": null,
      "metadata": {
        "colab": {
          "base_uri": "https://localhost:8080/"
        },
        "id": "571v2MQ6AGUI",
        "outputId": "fc997218-284d-4c9f-c373-789c20456163"
      },
      "outputs": [
        {
          "output_type": "stream",
          "name": "stdout",
          "text": [
            "root\n",
            " |-- Rental Id: string (nullable = true)\n",
            " |-- Duration: string (nullable = true)\n",
            " |-- Bike Id: string (nullable = true)\n",
            " |-- End Date: string (nullable = true)\n",
            " |-- EndStation Id: string (nullable = true)\n",
            " |-- EndStation Name: string (nullable = true)\n",
            " |-- Start Date: string (nullable = true)\n",
            " |-- StartStation Id: string (nullable = true)\n",
            " |-- StartStation Name: string (nullable = true)\n",
            " |-- start: timestamp (nullable = true)\n",
            "\n",
            "root\n",
            " |-- Rental Id: string (nullable = true)\n",
            " |-- Duration: string (nullable = true)\n",
            " |-- Bike Id: string (nullable = true)\n",
            " |-- End Date: string (nullable = true)\n",
            " |-- EndStation Id: string (nullable = true)\n",
            " |-- EndStation Name: string (nullable = true)\n",
            " |-- Start Date: string (nullable = true)\n",
            " |-- StartStation Id: string (nullable = true)\n",
            " |-- StartStation Name: string (nullable = true)\n",
            " |-- start: timestamp (nullable = true)\n",
            "\n"
          ]
        }
      ],
      "source": [
        "Spring_df.printSchema()\n",
        "Autumn_df.printSchema()"
      ]
    },
    {
      "cell_type": "markdown",
      "metadata": {
        "id": "R9SLDX1JY_kU"
      },
      "source": [
        "The Duration column is converted to integer type"
      ]
    },
    {
      "cell_type": "code",
      "execution_count": null,
      "metadata": {
        "id": "NPFoCCEJLB77"
      },
      "outputs": [],
      "source": [
        "Spring_df = Spring_df.withColumn(\"Duration\", Spring_df[\"Duration\"].cast(IntegerType()))\n",
        "Autumn_df = Autumn_df.withColumn(\"Duration\", Autumn_df[\"Duration\"].cast(IntegerType()))"
      ]
    },
    {
      "cell_type": "code",
      "source": [
        "Spring_df.printSchema()\n",
        "Autumn_df.printSchema()"
      ],
      "metadata": {
        "colab": {
          "base_uri": "https://localhost:8080/"
        },
        "id": "24I1CpVCsZLp",
        "outputId": "fea35066-91d2-4f07-bedd-a9a7854cdf70"
      },
      "execution_count": null,
      "outputs": [
        {
          "output_type": "stream",
          "name": "stdout",
          "text": [
            "root\n",
            " |-- Rental Id: string (nullable = true)\n",
            " |-- Duration: integer (nullable = true)\n",
            " |-- Bike Id: string (nullable = true)\n",
            " |-- End Date: string (nullable = true)\n",
            " |-- EndStation Id: string (nullable = true)\n",
            " |-- EndStation Name: string (nullable = true)\n",
            " |-- Start Date: string (nullable = true)\n",
            " |-- StartStation Id: string (nullable = true)\n",
            " |-- StartStation Name: string (nullable = true)\n",
            " |-- start: timestamp (nullable = true)\n",
            "\n",
            "root\n",
            " |-- Rental Id: string (nullable = true)\n",
            " |-- Duration: integer (nullable = true)\n",
            " |-- Bike Id: string (nullable = true)\n",
            " |-- End Date: string (nullable = true)\n",
            " |-- EndStation Id: string (nullable = true)\n",
            " |-- EndStation Name: string (nullable = true)\n",
            " |-- Start Date: string (nullable = true)\n",
            " |-- StartStation Id: string (nullable = true)\n",
            " |-- StartStation Name: string (nullable = true)\n",
            " |-- start: timestamp (nullable = true)\n",
            "\n"
          ]
        }
      ]
    },
    {
      "cell_type": "code",
      "source": [
        "Spring_df.show(5)"
      ],
      "metadata": {
        "colab": {
          "base_uri": "https://localhost:8080/"
        },
        "id": "ckc30FqXtKcR",
        "outputId": "99ebeeeb-6ae6-4d60-8d68-21708bd45c34"
      },
      "execution_count": null,
      "outputs": [
        {
          "output_type": "stream",
          "name": "stdout",
          "text": [
            "+---------+--------+-------+----------------+-------------+--------------------+----------------+---------------+--------------------+-------------------+\n",
            "|Rental Id|Duration|Bike Id|        End Date|EndStation Id|     EndStation Name|      Start Date|StartStation Id|   StartStation Name|              start|\n",
            "+---------+--------+-------+----------------+-------------+--------------------+----------------+---------------+--------------------+-------------------+\n",
            "| 33253206|    1140|  11439|27/05/2014 00:59|          695|Islington Green, ...|27/05/2014 00:40|             81|Great Titchfield ...|2014-05-27 00:40:00|\n",
            "| 33345935|     660|  10792|30/05/2014 18:00|          326|Graham Street, Angel|30/05/2014 17:49|            203|West Smithfield R...|2014-05-30 17:49:00|\n",
            "| 33385892|    1560|   6172|31/05/2014 19:10|          430|South Parade, Che...|31/05/2014 18:44|            286|St. John's Wood R...|2014-05-31 18:44:00|\n",
            "| 33340654|    1380|   9506|30/05/2014 16:19|           86|Sancroft Street, ...|30/05/2014 15:56|            430|South Parade, Che...|2014-05-30 15:56:00|\n",
            "| 33353596|    1620|  11872|30/05/2014 21:49|          430|South Parade, Che...|30/05/2014 21:22|            440|Kennington Oval, ...|2014-05-30 21:22:00|\n",
            "+---------+--------+-------+----------------+-------------+--------------------+----------------+---------------+--------------------+-------------------+\n",
            "only showing top 5 rows\n",
            "\n"
          ]
        }
      ]
    },
    {
      "cell_type": "markdown",
      "metadata": {
        "id": "d01OgoxRME8E"
      },
      "source": [
        "# Data Processing\n",
        "\n",
        "Missing values, outliers\n",
        "\n",
        "## Missing Values\n",
        "\n",
        "The below code returns the nan and null values in each column. There are only 20 bike rides in the spring data set that have a null or nan value, with 20 rides having null or nan values in the `Endstation Id` and `EndStation Name` variables. There are no null or nan values in the autumn data set."
      ]
    },
    {
      "cell_type": "code",
      "execution_count": null,
      "metadata": {
        "colab": {
          "base_uri": "https://localhost:8080/"
        },
        "id": "cdTagObsMgRE",
        "outputId": "6b9259d6-d75e-4dfe-86b8-2ef190bff77c"
      },
      "outputs": [
        {
          "output_type": "stream",
          "name": "stdout",
          "text": [
            "+---------+--------+-------+--------+-------------+---------------+----------+---------------+-----------------+\n",
            "|Rental Id|Duration|Bike Id|End Date|EndStation Id|EndStation Name|Start Date|StartStation Id|StartStation Name|\n",
            "+---------+--------+-------+--------+-------------+---------------+----------+---------------+-----------------+\n",
            "|        0|       0|      0|       0|           20|             20|         0|              0|                0|\n",
            "+---------+--------+-------+--------+-------------+---------------+----------+---------------+-----------------+\n",
            "\n"
          ]
        }
      ],
      "source": [
        "Spring_df.select([count(when(isnan(c) | col(c).isNull(), c)).alias(c) for c in Spring_df.drop('start').columns]).show()"
      ]
    },
    {
      "cell_type": "code",
      "execution_count": null,
      "metadata": {
        "colab": {
          "base_uri": "https://localhost:8080/"
        },
        "id": "MblqxC0ENfih",
        "outputId": "ca451abb-5dd1-4411-e6eb-43c079454d3e"
      },
      "outputs": [
        {
          "output_type": "stream",
          "name": "stdout",
          "text": [
            "+---------+--------+-------+--------+-------------+---------------+----------+---------------+-----------------+\n",
            "|Rental Id|Duration|Bike Id|End Date|EndStation Id|EndStation Name|Start Date|StartStation Id|StartStation Name|\n",
            "+---------+--------+-------+--------+-------------+---------------+----------+---------------+-----------------+\n",
            "|        0|       0|      0|       0|            0|              0|         0|              0|                0|\n",
            "+---------+--------+-------+--------+-------------+---------------+----------+---------------+-----------------+\n",
            "\n"
          ]
        }
      ],
      "source": [
        "Autumn_df.select([count(when(isnan(c), c)).alias(c) for c in Autumn_df.drop('start').columns]).show()"
      ]
    },
    {
      "cell_type": "markdown",
      "metadata": {
        "id": "EGkz8HdRRA9S"
      },
      "source": [
        "Looking at the bike rentals with null values in the endstation ID & Name columns, there does not seem to be any correlation between the bike rentals. In this research, an ANOVA statistical test will be used to test for a significant difference in the duration of bike rides between the spring and autumn time periods. Therefore the rentals with null values are removed from the data set."
      ]
    },
    {
      "cell_type": "code",
      "execution_count": null,
      "metadata": {
        "colab": {
          "base_uri": "https://localhost:8080/"
        },
        "id": "S0nYTpZWPPxh",
        "outputId": "492c71e4-2a5f-4853-ea10-a1180573e179"
      },
      "outputs": [
        {
          "output_type": "stream",
          "name": "stdout",
          "text": [
            "+---------+--------+-------+----------------+-------------+---------------+----------------+---------------+--------------------+-------------------+\n",
            "|Rental Id|Duration|Bike Id|        End Date|EndStation Id|EndStation Name|      Start Date|StartStation Id|   StartStation Name|              start|\n",
            "+---------+--------+-------+----------------+-------------+---------------+----------------+---------------+--------------------+-------------------+\n",
            "| 33215283|     660|   8081|25/05/2014 13:35|         null|           null|25/05/2014 13:24|            218|St. Luke's Church...|2014-05-25 13:24:00|\n",
            "| 33198434|     720|   4209|24/05/2014 17:56|         null|           null|24/05/2014 17:44|            680|Westbridge Road, ...|2014-05-24 17:44:00|\n",
            "| 32826965|    1380|   5309|14/05/2014 14:08|         null|           null|14/05/2014 13:45|            190|Rampayne Street, ...|2014-05-14 13:45:00|\n",
            "| 32743434|    1680|    351|11/05/2014 12:40|         null|           null|11/05/2014 12:12|            651|Thorndike Close, ...|2014-05-11 12:12:00|\n",
            "| 32975451|    1080|   9439|18/05/2014 12:49|         null|           null|18/05/2014 12:31|            216|Old Brompton Road...|2014-05-18 12:31:00|\n",
            "| 32842490|    1500|  11160|14/05/2014 20:08|         null|           null|14/05/2014 19:43|            395|Cadogan Gardens, ...|2014-05-14 19:43:00|\n",
            "| 32508878|    1200|   4771|03/05/2014 14:29|         null|           null|03/05/2014 14:09|             81|Great Titchfield ...|2014-05-03 14:09:00|\n",
            "| 32568048|     540|  10117|05/05/2014 09:01|         null|           null|05/05/2014 08:52|            669|Teversham Lane, S...|2014-05-05 08:52:00|\n",
            "| 33036892|    1200|   7429|19/05/2014 18:13|         null|           null|19/05/2014 17:53|            640|Silverthorne Road...|2014-05-19 17:53:00|\n",
            "| 33022386|    1140|   4495|19/05/2014 11:32|         null|           null|19/05/2014 11:13|            390|Buxton Street 1, ...|2014-05-19 11:13:00|\n",
            "| 33022380|    1200|   3275|19/05/2014 11:33|         null|           null|19/05/2014 11:13|            390|Buxton Street 1, ...|2014-05-19 11:13:00|\n",
            "| 33025747|     660|   8917|19/05/2014 13:30|         null|           null|19/05/2014 13:19|            465|Pitfield Street (...|2014-05-19 13:19:00|\n",
            "| 31152127|  492300|   9676|20/03/2014 18:11|         null|           null|15/03/2014 01:26|            217|Wormwood Street, ...|2014-03-15 01:26:00|\n",
            "| 31199183|    1320|   7778|16/03/2014 14:16|         null|           null|16/03/2014 13:54|            100|Albert Embankment...|2014-03-16 13:54:00|\n",
            "| 31572507|     240|   2531|31/03/2014 07:33|         null|           null|31/03/2014 07:29|             71|Newgate Street , ...|2014-03-31 07:29:00|\n",
            "| 31795486|     300|   8208|08/04/2014 13:33|         null|           null|08/04/2014 13:28|            663|Clarendon Road, A...|2014-04-08 13:28:00|\n",
            "| 31856487|     840|   4300|10/04/2014 14:16|         null|           null|10/04/2014 14:02|            449|Shadwell Station,...|2014-04-10 14:02:00|\n",
            "| 32092790|    1380|   9308|18/04/2014 11:48|         null|           null|18/04/2014 11:25|            638|Falcon Road, Clap...|2014-04-18 11:25:00|\n",
            "| 32154584|    1500|  10898|21/04/2014 16:00|         null|           null|21/04/2014 15:35|            684|Neville Gill Clos...|2014-04-21 15:35:00|\n",
            "| 32154642|    1440|  11096|21/04/2014 16:00|         null|           null|21/04/2014 15:36|            684|Neville Gill Clos...|2014-04-21 15:36:00|\n",
            "+---------+--------+-------+----------------+-------------+---------------+----------------+---------------+--------------------+-------------------+\n",
            "\n"
          ]
        }
      ],
      "source": [
        "Spring_df.filter((isnan(col(\"EndStation Id\")) | col(\"EndStation Name\").isNull())).show()"
      ]
    },
    {
      "cell_type": "code",
      "execution_count": null,
      "metadata": {
        "id": "F8zPjSAEQrMi"
      },
      "outputs": [],
      "source": [
        "Spring_df = Spring_df.dropna()"
      ]
    },
    {
      "cell_type": "code",
      "execution_count": null,
      "metadata": {
        "colab": {
          "base_uri": "https://localhost:8080/"
        },
        "id": "8j7inYYuUESF",
        "outputId": "1b18a2f7-0834-4c38-d10e-a85458a1d0cc"
      },
      "outputs": [
        {
          "output_type": "stream",
          "name": "stdout",
          "text": [
            "+---------+--------+-------+--------+-------------+---------------+----------+---------------+-----------------+\n",
            "|Rental Id|Duration|Bike Id|End Date|EndStation Id|EndStation Name|Start Date|StartStation Id|StartStation Name|\n",
            "+---------+--------+-------+--------+-------------+---------------+----------+---------------+-----------------+\n",
            "|        0|       0|      0|       0|            0|              0|         0|              0|                0|\n",
            "+---------+--------+-------+--------+-------------+---------------+----------+---------------+-----------------+\n",
            "\n"
          ]
        }
      ],
      "source": [
        "Spring_df.select([count(when(isnan(c) | col(c).isNull(), c)).alias(c) for c in Spring_df.drop('start').columns]).show()"
      ]
    },
    {
      "cell_type": "markdown",
      "metadata": {
        "id": "EDYHRYOuUwVo"
      },
      "source": [
        "## Outliers"
      ]
    },
    {
      "cell_type": "markdown",
      "source": [
        "To be able to suitably test the project hypothesis, an establishment of what a valid bike ride needs to be defined. Bike rides that last in excess of a day can be questioned as valid rides whilst rides that last an incredibly small amount of time could be rides that have been mistakenly rented. To detect outliers, the Inter Quartile Range is used (IQR). The 25th and 75th percentiles of the duration column are first detected."
      ],
      "metadata": {
        "id": "22KcdEbm_oUU"
      }
    },
    {
      "cell_type": "code",
      "source": [
        "Spring_df.select(\"Duration\").summary(\"25%\", \"75%\").show()"
      ],
      "metadata": {
        "colab": {
          "base_uri": "https://localhost:8080/"
        },
        "id": "3-d4KDmc-I_M",
        "outputId": "db87de25-299c-4ee6-ee37-b94606bd5e63"
      },
      "execution_count": null,
      "outputs": [
        {
          "output_type": "stream",
          "name": "stdout",
          "text": [
            "+-------+--------+\n",
            "|summary|Duration|\n",
            "+-------+--------+\n",
            "|    25%|     480|\n",
            "|    75%|    1320|\n",
            "+-------+--------+\n",
            "\n"
          ]
        }
      ]
    },
    {
      "cell_type": "code",
      "source": [
        "Autumn_df.select(\"Duration\").summary(\"25%\", \"75%\").show()"
      ],
      "metadata": {
        "colab": {
          "base_uri": "https://localhost:8080/"
        },
        "id": "dQLqv-rlAnA3",
        "outputId": "ce7940b4-da6a-4c89-c767-d350aa2020dc"
      },
      "execution_count": null,
      "outputs": [
        {
          "output_type": "stream",
          "name": "stdout",
          "text": [
            "+-------+--------+\n",
            "|summary|Duration|\n",
            "+-------+--------+\n",
            "|    25%|     480|\n",
            "|    75%|    1260|\n",
            "+-------+--------+\n",
            "\n"
          ]
        }
      ]
    },
    {
      "cell_type": "markdown",
      "source": [
        "The IQR can be calculated by finding the difference between the 75th and 25th percentiles"
      ],
      "metadata": {
        "id": "I4czECAsG7LZ"
      }
    },
    {
      "cell_type": "code",
      "source": [
        "Spring_Q1 = Spring_df.approxQuantile(\"Duration\",[0.25],relativeError=0)\n",
        "print(Spring_Q1)\n",
        "Spring_Q3 = Spring_df.approxQuantile(\"Duration\",[0.75],relativeError=0)\n",
        "print(Spring_Q3)\n",
        "Autumn_Q1 = Autumn_df.approxQuantile(\"Duration\",[0.25],relativeError=0)\n",
        "print(Autumn_Q1)\n",
        "Autumn_Q3 = Autumn_df.approxQuantile(\"Duration\",[0.75],relativeError=0)\n",
        "print(Autumn_Q3)"
      ],
      "metadata": {
        "colab": {
          "base_uri": "https://localhost:8080/"
        },
        "id": "PvAO3UuMDJEF",
        "outputId": "cae7ffb7-1ced-47ad-d38a-a2a932c071bc"
      },
      "execution_count": null,
      "outputs": [
        {
          "output_type": "stream",
          "name": "stdout",
          "text": [
            "[480.0]\n",
            "[1320.0]\n",
            "[480.0]\n",
            "[1260.0]\n"
          ]
        }
      ]
    },
    {
      "cell_type": "code",
      "source": [
        "Spring_IQR = Spring_Q3[0]-Spring_Q1[0]\n",
        "print(Spring_IQR)\n",
        "Autumn_IQR = Autumn_Q3[0]-Autumn_Q1[0]\n",
        "print(Autumn_IQR)"
      ],
      "metadata": {
        "colab": {
          "base_uri": "https://localhost:8080/"
        },
        "id": "VVjLd3Z2ECxd",
        "outputId": "e10719db-7951-4f41-80ad-d8da6c993207"
      },
      "execution_count": null,
      "outputs": [
        {
          "output_type": "stream",
          "name": "stdout",
          "text": [
            "840.0\n",
            "780.0\n"
          ]
        }
      ]
    },
    {
      "cell_type": "markdown",
      "source": [
        "The upper bound is calculated. The lower bound calculated is negative and therefore not appropriate to be used. Instead the lower bound can be set as 0 so that all bike rides that are greater than 0 seconds in duration are kept. "
      ],
      "metadata": {
        "id": "8_ivH00EPK7u"
      }
    },
    {
      "cell_type": "code",
      "source": [
        "spring_upbound = Spring_Q3[0] + 1.5 * Spring_IQR\n",
        "spring_lowbound = 30"
      ],
      "metadata": {
        "id": "YyOwLbWpIG8A"
      },
      "execution_count": null,
      "outputs": []
    },
    {
      "cell_type": "code",
      "source": [
        "autumn_upbound = Autumn_Q3[0] + 1.5 * Autumn_IQR\n",
        "autumn_lowbound = 30"
      ],
      "metadata": {
        "id": "D5jsoCJXN-tc"
      },
      "execution_count": null,
      "outputs": []
    },
    {
      "cell_type": "code",
      "source": [
        "Spring = Spring_df.filter(\n",
        "    (Spring_df.Duration > spring_lowbound) & (Spring_df.Duration < spring_upbound)\n",
        ")"
      ],
      "metadata": {
        "id": "L1ei0i_tOYk8"
      },
      "execution_count": null,
      "outputs": []
    },
    {
      "cell_type": "code",
      "source": [
        "Autumn = Autumn_df.filter(\n",
        "    (Autumn_df.Duration > autumn_lowbound) & (Autumn_df.Duration < autumn_upbound)\n",
        ")"
      ],
      "metadata": {
        "id": "WGbixAwCO-pk"
      },
      "execution_count": null,
      "outputs": []
    },
    {
      "cell_type": "markdown",
      "source": [
        "# Data Analysis\n",
        "\n",
        "## Aggregation\n",
        "\n",
        "Statistics relating to the duration of cycle rides can be found using aggregation. The average ride duration during spring is more than 30 seconds higher."
      ],
      "metadata": {
        "id": "sxLdJ8tOPqU1"
      }
    },
    {
      "cell_type": "code",
      "source": [
        "avg_spring_dur = Spring.agg(avg(\"Duration\"))\n",
        "avg_spring_dur.show()\n",
        "\n",
        "avg_autumn_dur = Autumn.agg(avg(\"Duration\"))\n",
        "avg_autumn_dur.show()"
      ],
      "metadata": {
        "colab": {
          "base_uri": "https://localhost:8080/"
        },
        "id": "effk8eocPuSV",
        "outputId": "c8ebc3c7-fd5b-45f3-b5d6-517a46b9c875"
      },
      "execution_count": null,
      "outputs": [
        {
          "output_type": "stream",
          "name": "stdout",
          "text": [
            "+-----------------+\n",
            "|    avg(Duration)|\n",
            "+-----------------+\n",
            "|883.7517930339344|\n",
            "+-----------------+\n",
            "\n",
            "+-----------------+\n",
            "|    avg(Duration)|\n",
            "+-----------------+\n",
            "|848.8046536859737|\n",
            "+-----------------+\n",
            "\n"
          ]
        }
      ]
    },
    {
      "cell_type": "code",
      "source": [
        "Spring_StartStation_counts = Spring.groupBy(\"StartStation Name\").count()\n",
        "\n",
        "Spring_sts = Spring.groupBy(\"StartStation Name\").agg(\n",
        "    sum(\"Duration\").alias(\"Sum of Bike Ride Durations\"),\n",
        "    avg(\"Duration\").alias(\"Average Bike Ride Duration\"),\n",
        "    min(\"Duration\").alias(\"Minimum Bike Ride Duration\"),\n",
        "    max(\"Duration\").alias(\"Maximum Bike Ride Duration\")\n",
        ")"
      ],
      "metadata": {
        "id": "MEvlqwzzScmP"
      },
      "execution_count": null,
      "outputs": []
    },
    {
      "cell_type": "code",
      "source": [
        "Spring_Starts = Spring_sts.join(\n",
        "    Spring_StartStation_counts, on=[\"StartStation Name\"], how=\"inner\").orderBy(\n",
        "        \"count\", ascending = False)\n",
        "Spring_Starts.show(5)"
      ],
      "metadata": {
        "colab": {
          "base_uri": "https://localhost:8080/"
        },
        "id": "umcwI4P9WPIY",
        "outputId": "5f4b6556-51a4-4e0c-dc4e-7d30b0b61cde"
      },
      "execution_count": null,
      "outputs": [
        {
          "output_type": "stream",
          "name": "stdout",
          "text": [
            "+--------------------+--------------------------+--------------------------+--------------------------+--------------------------+-----+\n",
            "|   StartStation Name|Sum of Bike Ride Durations|Average Bike Ride Duration|Minimum Bike Ride Duration|Maximum Bike Ride Duration|count|\n",
            "+--------------------+--------------------------+--------------------------+--------------------------+--------------------------+-----+\n",
            "|Belgrove Street ,...|                  17426820|         840.6164680912643|                       120|                      2520|20731|\n",
            "|Waterloo Station ...|                  14433840|          793.984267561472|                        60|                      2520|18179|\n",
            "|Hyde Park Corner,...|                  22664040|        1323.8341121495328|                        60|                      2520|17120|\n",
            "|Black Lion Gate, ...|                  16869720|        1208.9522717500358|                       120|                      2520|13954|\n",
            "|Albert Gate, Hyde...|                  17290320|        1283.2358616594925|                        60|                      2520|13474|\n",
            "+--------------------+--------------------------+--------------------------+--------------------------+--------------------------+-----+\n",
            "only showing top 5 rows\n",
            "\n"
          ]
        }
      ]
    },
    {
      "cell_type": "code",
      "source": [
        "Autumn_StartStation_counts = Autumn.groupBy(\"StartStation Name\").count()\n",
        "\n",
        "Autumn_sts = Autumn.groupBy(\"StartStation Name\").agg(\n",
        "    sum(\"Duration\").alias(\"Sum of Bike Ride Durations\"),\n",
        "    avg(\"Duration\").alias(\"Average Bike Ride Duration\"),\n",
        "    min(\"Duration\").alias(\"Minimum Bike Ride Duration\"),\n",
        "    max(\"Duration\").alias(\"Maximum Bike Ride Duration\")\n",
        ")"
      ],
      "metadata": {
        "id": "XOI3suOGYYuF"
      },
      "execution_count": null,
      "outputs": []
    },
    {
      "cell_type": "code",
      "source": [
        "Autumn_Starts = Autumn_sts.join(\n",
        "    Autumn_StartStation_counts, on=[\"StartStation Name\"], how=\"inner\").orderBy(\n",
        "        \"count\", ascending = False)\n",
        "Autumn_Starts.show(5)"
      ],
      "metadata": {
        "colab": {
          "base_uri": "https://localhost:8080/"
        },
        "id": "2OOhyPhTZbMT",
        "outputId": "2367ec99-1e3a-4e68-d779-dc7c4ef4b397"
      },
      "execution_count": null,
      "outputs": [
        {
          "output_type": "stream",
          "name": "stdout",
          "text": [
            "+--------------------+--------------------------+--------------------------+--------------------------+--------------------------+-----+\n",
            "|   StartStation Name|Sum of Bike Ride Durations|Average Bike Ride Duration|Minimum Bike Ride Duration|Maximum Bike Ride Duration|count|\n",
            "+--------------------+--------------------------+--------------------------+--------------------------+--------------------------+-----+\n",
            "|Belgrove Street ,...|                  18290640|         822.8278375095596|                       120|                      2400|22229|\n",
            "|Waterloo Station ...|                  16038420|         777.4695816568908|                        60|                      2400|20629|\n",
            "|Hyde Park Corner,...|                  18853020|         1253.191970220686|                        60|                      2400|15044|\n",
            "|Waterloo Station ...|                  11319480|         784.4407484407484|                        60|                      2400|14430|\n",
            "|Wormwood Street, ...|                  11130660|         792.6126895962401|                        60|                      2400|14043|\n",
            "+--------------------+--------------------------+--------------------------+--------------------------+--------------------------+-----+\n",
            "only showing top 5 rows\n",
            "\n"
          ]
        }
      ]
    },
    {
      "cell_type": "code",
      "source": [
        "Autumn.describe(\"Duration\").show()\n",
        "Spring.describe(\"Duration\").show()"
      ],
      "metadata": {
        "colab": {
          "base_uri": "https://localhost:8080/"
        },
        "id": "MURJg_QSZk96",
        "outputId": "03e479dc-9c02-47ad-a37e-b5f5fa9c46a8"
      },
      "execution_count": null,
      "outputs": [
        {
          "output_type": "stream",
          "name": "stdout",
          "text": [
            "+-------+-----------------+\n",
            "|summary|         Duration|\n",
            "+-------+-----------------+\n",
            "|  count|          2483021|\n",
            "|   mean|848.8046536859737|\n",
            "| stddev|489.6076303550688|\n",
            "|    min|               60|\n",
            "|    max|             2400|\n",
            "+-------+-----------------+\n",
            "\n",
            "+-------+-----------------+\n",
            "|summary|         Duration|\n",
            "+-------+-----------------+\n",
            "|  count|          2232250|\n",
            "|   mean|883.7517930339344|\n",
            "| stddev|520.0603982176281|\n",
            "|    min|               60|\n",
            "|    max|             2520|\n",
            "+-------+-----------------+\n",
            "\n"
          ]
        }
      ]
    },
    {
      "cell_type": "markdown",
      "source": [
        "# Exploratory Data Analysis using Matplotlib"
      ],
      "metadata": {
        "id": "5wwD_Wt1nJdu"
      }
    },
    {
      "cell_type": "code",
      "source": [
        "#Create a pandas df of the duration times for both the Spring and Autumn Time periods\n",
        "\n",
        "Spring_pd = Spring[['Duration']].toPandas()\n",
        "Autumn_pd = Autumn[['Duration']].toPandas()"
      ],
      "metadata": {
        "id": "-5uOYM_pd8vG"
      },
      "execution_count": null,
      "outputs": []
    },
    {
      "cell_type": "code",
      "source": [
        "plt.hist(Spring_pd, bins = 40, alpha = 0.5, label = 'Spring', color = 'blue',  histtype='step', fill = False)\n",
        "plt.hist(Autumn_pd, bins = 40, alpha = 0.5, label = 'Autumn', color = 'red',  histtype='step', fill = False)\n",
        "plt.xlabel(\"Duration (s)\")\n",
        "plt.ylabel(\"Frequency\")\n",
        "plt.title(\"Distribution of Bike Rental Duration\")\n",
        "plt.legend()\n",
        "plt.savefig(\"BikeDistribution.jpeg\")"
      ],
      "metadata": {
        "colab": {
          "base_uri": "https://localhost:8080/",
          "height": 471
        },
        "id": "2KHzjZl5fMAW",
        "outputId": "1443f5bb-7835-4087-8260-32a1dc1dcf49"
      },
      "execution_count": null,
      "outputs": [
        {
          "output_type": "display_data",
          "data": {
            "text/plain": [
              "<Figure size 640x480 with 1 Axes>"
            ],
            "image/png": "[encoded data removed]"
          },
          "metadata": {}
        }
      ]
    },
    {
      "cell_type": "markdown",
      "source": [
        "# Statistical Testing"
      ],
      "metadata": {
        "id": "zUkNWhCZn34T"
      }
    },
    {
      "cell_type": "code",
      "source": [
        "# Merge both Dfs into one DF\n",
        "\n",
        "Spring = Spring.withColumn(\"Season\", lit(\"Spring\"))\n",
        "Autumn = Autumn.withColumn(\"Season\", lit(\"Autumn\"))\n",
        "\n",
        "\n",
        "df = Spring.union(Autumn)"
      ],
      "metadata": {
        "id": "-H8HRScrn7Az"
      },
      "execution_count": null,
      "outputs": []
    },
    {
      "cell_type": "code",
      "source": [
        "df.show(5)"
      ],
      "metadata": {
        "colab": {
          "base_uri": "https://localhost:8080/"
        },
        "id": "giVPrx6moaxw",
        "outputId": "2951c4b7-c99c-46d1-f027-502491dda59d"
      },
      "execution_count": null,
      "outputs": [
        {
          "output_type": "stream",
          "name": "stdout",
          "text": [
            "+---------+--------+-------+----------------+-------------+--------------------+----------------+---------------+--------------------+-------------------+------+\n",
            "|Rental Id|Duration|Bike Id|        End Date|EndStation Id|     EndStation Name|      Start Date|StartStation Id|   StartStation Name|              start|Season|\n",
            "+---------+--------+-------+----------------+-------------+--------------------+----------------+---------------+--------------------+-------------------+------+\n",
            "| 33253206|    1140|  11439|27/05/2014 00:59|          695|Islington Green, ...|27/05/2014 00:40|             81|Great Titchfield ...|2014-05-27 00:40:00|Spring|\n",
            "| 33345935|     660|  10792|30/05/2014 18:00|          326|Graham Street, Angel|30/05/2014 17:49|            203|West Smithfield R...|2014-05-30 17:49:00|Spring|\n",
            "| 33385892|    1560|   6172|31/05/2014 19:10|          430|South Parade, Che...|31/05/2014 18:44|            286|St. John's Wood R...|2014-05-31 18:44:00|Spring|\n",
            "| 33340654|    1380|   9506|30/05/2014 16:19|           86|Sancroft Street, ...|30/05/2014 15:56|            430|South Parade, Che...|2014-05-30 15:56:00|Spring|\n",
            "| 33353596|    1620|  11872|30/05/2014 21:49|          430|South Parade, Che...|30/05/2014 21:22|            440|Kennington Oval, ...|2014-05-30 21:22:00|Spring|\n",
            "+---------+--------+-------+----------------+-------------+--------------------+----------------+---------------+--------------------+-------------------+------+\n",
            "only showing top 5 rows\n",
            "\n"
          ]
        }
      ]
    },
    {
      "cell_type": "code",
      "source": [
        "df.groupBy(\"Season\").count().show()"
      ],
      "metadata": {
        "colab": {
          "base_uri": "https://localhost:8080/"
        },
        "id": "hzsJMgDXocA_",
        "outputId": "8af259e5-3ce7-424a-c1f0-cb0a650c3f5a"
      },
      "execution_count": null,
      "outputs": [
        {
          "output_type": "stream",
          "name": "stdout",
          "text": [
            "+------+-------+\n",
            "|Season|  count|\n",
            "+------+-------+\n",
            "|Spring|2232250|\n",
            "|Autumn|2483021|\n",
            "+------+-------+\n",
            "\n"
          ]
        }
      ]
    },
    {
      "cell_type": "code",
      "source": [
        "import scipy.stats as stats"
      ],
      "metadata": {
        "id": "9y6tkr-dvT7q"
      },
      "execution_count": null,
      "outputs": []
    },
    {
      "cell_type": "code",
      "source": [
        "df_pd = df[['Duration', 'Season']].toPandas()"
      ],
      "metadata": {
        "id": "ZW4mwdmJyHSU"
      },
      "execution_count": null,
      "outputs": []
    },
    {
      "cell_type": "code",
      "source": [
        "df_pd.head()"
      ],
      "metadata": {
        "colab": {
          "base_uri": "https://localhost:8080/",
          "height": 201
        },
        "id": "h4aciaeVygzT",
        "outputId": "0d8e5a01-5e18-4da5-9ab8-f239e8ac7e22"
      },
      "execution_count": null,
      "outputs": [
        {
          "output_type": "execute_result",
          "data": {
            "text/plain": [
              "   Duration  Season\n",
              "0      1140  Spring\n",
              "1       660  Spring\n",
              "2      1560  Spring\n",
              "3      1380  Spring\n",
              "4      1620  Spring"
            ],
            "text/html": [
              "\n",
              "  <div id=\"df-890b1fe9-ad58-4c1a-be8b-9d912c8858eb\">\n",
              "    <div class=\"colab-df-container\">\n",
              "      <div>\n",
              "<style scoped>\n",
              "    .dataframe tbody tr th:only-of-type {\n",
              "        vertical-align: middle;\n",
              "    }\n",
              "\n",
              "    .dataframe tbody tr th {\n",
              "        vertical-align: top;\n",
              "    }\n",
              "\n",
              "    .dataframe thead th {\n",
              "        text-align: right;\n",
              "    }\n",
              "</style>\n",
              "<table border=\"1\" class=\"dataframe\">\n",
              "  <thead>\n",
              "    <tr style=\"text-align: right;\">\n",
              "      <th></th>\n",
              "      <th>Duration</th>\n",
              "      <th>Season</th>\n",
              "    </tr>\n",
              "  </thead>\n",
              "  <tbody>\n",
              "    <tr>\n",
              "      <th>0</th>\n",
              "      <td>1140</td>\n",
              "      <td>Spring</td>\n",
              "    </tr>\n",
              "    <tr>\n",
              "      <th>1</th>\n",
              "      <td>660</td>\n",
              "      <td>Spring</td>\n",
              "    </tr>\n",
              "    <tr>\n",
              "      <th>2</th>\n",
              "      <td>1560</td>\n",
              "      <td>Spring</td>\n",
              "    </tr>\n",
              "    <tr>\n",
              "      <th>3</th>\n",
              "      <td>1380</td>\n",
              "      <td>Spring</td>\n",
              "    </tr>\n",
              "    <tr>\n",
              "      <th>4</th>\n",
              "      <td>1620</td>\n",
              "      <td>Spring</td>\n",
              "    </tr>\n",
              "  </tbody>\n",
              "</table>\n",
              "</div>\n",
              "      <button class=\"colab-df-convert\" onclick=\"convertToInteractive('df-890b1fe9-ad58-4c1a-be8b-9d912c8858eb')\"\n",
              "              title=\"Convert this dataframe to an interactive table.\"\n",
              "              style=\"display:none;\">\n",
              "        \n",
              "  <svg xmlns=\"http://www.w3.org/2000/svg\" height=\"24px\"viewBox=\"0 0 24 24\"\n",
              "       width=\"24px\">\n",
              "    <path d=\"M0 0h24v24H0V0z\" fill=\"none\"/>\n",
              "    <path d=\"M18.56 5.44l.94 2.06.94-2.06 2.06-.94-2.06-.94-.94-2.06-.94 2.06-2.06.94zm-11 1L8.5 8.5l.94-2.06 2.06-.94-2.06-.94L8.5 2.5l-.94 2.06-2.06.94zm10 10l.94 2.06.94-2.06 2.06-.94-2.06-.94-.94-2.06-.94 2.06-2.06.94z\"/><path d=\"M17.41 7.96l-1.37-1.37c-.4-.4-.92-.59-1.43-.59-.52 0-1.04.2-1.43.59L10.3 9.45l-7.72 7.72c-.78.78-.78 2.05 0 2.83L4 21.41c.39.39.9.59 1.41.59.51 0 1.02-.2 1.41-.59l7.78-7.78 2.81-2.81c.8-.78.8-2.07 0-2.86zM5.41 20L4 18.59l7.72-7.72 1.47 1.35L5.41 20z\"/>\n",
              "  </svg>\n",
              "      </button>\n",
              "      \n",
              "  <style>\n",
              "    .colab-df-container {\n",
              "      display:flex;\n",
              "      flex-wrap:wrap;\n",
              "      gap: 12px;\n",
              "    }\n",
              "\n",
              "    .colab-df-convert {\n",
              "      background-color: #E8F0FE;\n",
              "      border: none;\n",
              "      border-radius: 50%;\n",
              "      cursor: pointer;\n",
              "      display: none;\n",
              "      fill: #1967D2;\n",
              "      height: 32px;\n",
              "      padding: 0 0 0 0;\n",
              "      width: 32px;\n",
              "    }\n",
              "\n",
              "    .colab-df-convert:hover {\n",
              "      background-color: #E2EBFA;\n",
              "      box-shadow: 0px 1px 2px rgba(60, 64, 67, 0.3), 0px 1px 3px 1px rgba(60, 64, 67, 0.15);\n",
              "      fill: #174EA6;\n",
              "    }\n",
              "\n",
              "    [theme=dark] .colab-df-convert {\n",
              "      background-color: #3B4455;\n",
              "      fill: #D2E3FC;\n",
              "    }\n",
              "\n",
              "    [theme=dark] .colab-df-convert:hover {\n",
              "      background-color: #434B5C;\n",
              "      box-shadow: 0px 1px 3px 1px rgba(0, 0, 0, 0.15);\n",
              "      filter: drop-shadow(0px 1px 2px rgba(0, 0, 0, 0.3));\n",
              "      fill: #FFFFFF;\n",
              "    }\n",
              "  </style>\n",
              "\n",
              "      <script>\n",
              "        const buttonEl =\n",
              "          document.querySelector('#df-890b1fe9-ad58-4c1a-be8b-9d912c8858eb button.colab-df-convert');\n",
              "        buttonEl.style.display =\n",
              "          google.colab.kernel.accessAllowed ? 'block' : 'none';\n",
              "\n",
              "        async function convertToInteractive(key) {\n",
              "          const element = document.querySelector('#df-890b1fe9-ad58-4c1a-be8b-9d912c8858eb');\n",
              "          const dataTable =\n",
              "            await google.colab.kernel.invokeFunction('convertToInteractive',\n",
              "                                                     [key], {});\n",
              "          if (!dataTable) return;\n",
              "\n",
              "          const docLinkHtml = 'Like what you see? Visit the ' +\n",
              "            '<a target=\"_blank\" href=https://colab.research.google.com/notebooks/data_table.ipynb>data table notebook</a>'\n",
              "            + ' to learn more about interactive tables.';\n",
              "          element.innerHTML = '';\n",
              "          dataTable['output_type'] = 'display_data';\n",
              "          await google.colab.output.renderOutput(dataTable, element);\n",
              "          const docLink = document.createElement('div');\n",
              "          docLink.innerHTML = docLinkHtml;\n",
              "          element.appendChild(docLink);\n",
              "        }\n",
              "      </script>\n",
              "    </div>\n",
              "  </div>\n",
              "  "
            ]
          },
          "metadata": {},
          "execution_count": 51
        }
      ]
    },
    {
      "cell_type": "markdown",
      "source": [
        "The One-Way ANOVA test (from SCIPY.STATS) is used to conduct a one-way anova test to test for significance between the durations of autumn and sprinig. The test shows that there is a statistically significant difference between the groups with a p value of 0. However, whilst there is statistical significance, there is no measure on the size of that significance. "
      ],
      "metadata": {
        "id": "ChWXRhwZyzu-"
      }
    },
    {
      "cell_type": "code",
      "source": [
        "stats.f_oneway(df_pd['Duration'][df_pd['Season'] == 'Spring'],\n",
        "               df_pd['Duration'][df_pd['Season'] == 'Autumn'])"
      ],
      "metadata": {
        "colab": {
          "base_uri": "https://localhost:8080/"
        },
        "id": "KdwaWU31xFON",
        "outputId": "6670125b-0495-4f48-910c-c4f18b385520"
      },
      "execution_count": null,
      "outputs": [
        {
          "output_type": "execute_result",
          "data": {
            "text/plain": [
              "F_onewayResult(statistic=5646.013974371388, pvalue=0.0)"
            ]
          },
          "metadata": {},
          "execution_count": 52
        }
      ]
    }
  ],
  "metadata": {
    "colab": {
      "provenance": []
    },
    "kernelspec": {
      "display_name": "Python 3",
      "name": "python3"
    },
    "language_info": {
      "name": "python"
    },
    "gpuClass": "standard"
  },
  "nbformat": 4,
  "nbformat_minor": 0
}